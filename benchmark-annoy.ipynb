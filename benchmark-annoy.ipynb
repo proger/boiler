{
 "cells": [
  {
   "cell_type": "markdown",
   "metadata": {},
   "source": [
    "Annoy is an in-memory cpu-only approximate nearest neighbor index which I'm using in this demo."
   ]
  },
  {
   "cell_type": "markdown",
   "metadata": {},
   "source": [
    "We will be running some performance experiments by grid searching over two Annoy parameters, `n_trees` and `search_k` assuming the dataset size is constant and assuming a fixed latency bugdet (off the top of my head 1-2ms should be reasonable).\n",
    "\n",
    "The parameters are explained in more detail in https://github.com/spotify/annoy#tradeoffs.\n",
    "\n",
    "This notebook assumes you have a prepared encoder and a directory of wav files."
   ]
  },
  {
   "cell_type": "code",
   "execution_count": 19,
   "metadata": {},
   "outputs": [
    {
     "name": "stdout",
     "output_type": "stream",
     "text": [
      "The autoreload extension is already loaded. To reload it, use:\n",
      "  %reload_ext autoreload\n"
     ]
    }
   ],
   "source": [
    "%load_ext autoreload\n",
    "%autoreload 2\n",
    "\n",
    "!pip3 install -q pandas"
   ]
  },
  {
   "cell_type": "code",
   "execution_count": 37,
   "metadata": {},
   "outputs": [],
   "source": [
    "from pathlib import Path\n",
    "import time\n",
    "\n",
    "import matplotlib.pyplot as plt\n",
    "import pandas as pd\n",
    "import torch\n",
    "import torch.nn.functional as F\n",
    "from torch.utils.data import DataLoader, ConcatDataset\n",
    "from tqdm.notebook import tqdm\n",
    "\n",
    "import boiler.index\n",
    "import boiler.dataset"
   ]
  },
  {
   "cell_type": "code",
   "execution_count": 4,
   "metadata": {},
   "outputs": [],
   "source": [
    "class args:\n",
    "    wav_dir = Path('/home/proger/coub-crawler/monthlyLog/wav')\n",
    "    encoder = Path('/home/proger/boiler/exp/p_t64_b512/vqvae_223/BagTopVQVAE/encoder.pt')\n",
    "    index_dir = Path('/home/proger/boiler/annoy')\n",
    "    device = 'cuda'"
   ]
  },
  {
   "cell_type": "code",
   "execution_count": 5,
   "metadata": {},
   "outputs": [],
   "source": [
    "coubs = sorted(args.wav_dir.glob('*.wav'))\n",
    "coub_dataset = ConcatDataset([boiler.dataset.WavFile(wav) for wav in coubs])\n",
    "coub_loader = DataLoader(coub_dataset, batch_size=64, shuffle=False, num_workers=4)"
   ]
  },
  {
   "cell_type": "code",
   "execution_count": 6,
   "metadata": {},
   "outputs": [],
   "source": [
    "model = torch.jit.load(str(args.encoder))"
   ]
  },
  {
   "cell_type": "code",
   "execution_count": 7,
   "metadata": {},
   "outputs": [
    {
     "data": {
      "application/vnd.jupyter.widget-view+json": {
       "model_id": "23e03f9381374fdeb7940deb01d12c2d",
       "version_major": 2,
       "version_minor": 0
      },
      "text/plain": [
       "HBox(children=(HTML(value=''), FloatProgress(value=0.0, max=146.0), HTML(value='')))"
      ]
     },
     "metadata": {},
     "output_type": "display_data"
    },
    {
     "name": "stderr",
     "output_type": "stream",
     "text": [
      "/home/proger/.local/lib/python3.8/site-packages/torch/nn/modules/module.py:727: UserWarning: The function torch.rfft is deprecated and will be removed in a future PyTorch release. Use the new torch.fft module functions, instead, by importing torch.fft and calling torch.fft.fft or torch.fft.rfft. (Triggered internally at  /pytorch/aten/src/ATen/native/SpectralOps.cpp:590.)\n",
      "  result = self.forward(*input, **kwargs)\n"
     ]
    },
    {
     "name": "stdout",
     "output_type": "stream",
     "text": [
      "\n"
     ]
    }
   ],
   "source": [
    "embeddings = []\n",
    "for batch in tqdm(coub_loader):\n",
    "    embeddings.append(model(batch.to(args.device)).detach().cpu())\n",
    "embeddings = torch.cat(embeddings)"
   ]
  },
  {
   "cell_type": "markdown",
   "metadata": {},
   "source": [
    "\n",
    "Tuning guidelines:\n",
    "\n",
    "> Basically it's recommended to set `n_trees` as large as possible given the amount of memory you can afford,\n",
    "> and it's recommended to set `search_k` as large as possible given the time constraints you have for the queries.\n",
    "\n",
    "`search_k` defaults to `n*n_trees`."
   ]
  },
  {
   "cell_type": "code",
   "execution_count": 11,
   "metadata": {
    "scrolled": false
   },
   "outputs": [
    {
     "data": {
      "application/vnd.jupyter.widget-view+json": {
       "model_id": "4bdb26b9160c4a408e20e71bdee68bfb",
       "version_major": 2,
       "version_minor": 0
      },
      "text/plain": [
       "HBox(children=(HTML(value=''), FloatProgress(value=0.0, max=9.0), HTML(value='')))"
      ]
     },
     "metadata": {},
     "output_type": "display_data"
    },
    {
     "data": {
      "application/vnd.jupyter.widget-view+json": {
       "model_id": "3b17698d5a3a48bb95a083d68eaa04da",
       "version_major": 2,
       "version_minor": 0
      },
      "text/plain": [
       "HBox(children=(HTML(value=''), FloatProgress(value=0.0, max=5.0), HTML(value='')))"
      ]
     },
     "metadata": {},
     "output_type": "display_data"
    },
    {
     "name": "stdout",
     "output_type": "stream",
     "text": [
      "\n"
     ]
    },
    {
     "data": {
      "application/vnd.jupyter.widget-view+json": {
       "model_id": "8dec9225fce44b5ca070574c848796cb",
       "version_major": 2,
       "version_minor": 0
      },
      "text/plain": [
       "HBox(children=(HTML(value=''), FloatProgress(value=0.0, max=5.0), HTML(value='')))"
      ]
     },
     "metadata": {},
     "output_type": "display_data"
    },
    {
     "name": "stdout",
     "output_type": "stream",
     "text": [
      "\n"
     ]
    },
    {
     "data": {
      "application/vnd.jupyter.widget-view+json": {
       "model_id": "2392f7fdda784632ab54d20fa9356d6a",
       "version_major": 2,
       "version_minor": 0
      },
      "text/plain": [
       "HBox(children=(HTML(value=''), FloatProgress(value=0.0, max=5.0), HTML(value='')))"
      ]
     },
     "metadata": {},
     "output_type": "display_data"
    },
    {
     "name": "stdout",
     "output_type": "stream",
     "text": [
      "\n"
     ]
    },
    {
     "data": {
      "application/vnd.jupyter.widget-view+json": {
       "model_id": "d7253347046a4e73b20ab2da58b767be",
       "version_major": 2,
       "version_minor": 0
      },
      "text/plain": [
       "HBox(children=(HTML(value=''), FloatProgress(value=0.0, max=5.0), HTML(value='')))"
      ]
     },
     "metadata": {},
     "output_type": "display_data"
    },
    {
     "name": "stdout",
     "output_type": "stream",
     "text": [
      "\n"
     ]
    },
    {
     "data": {
      "application/vnd.jupyter.widget-view+json": {
       "model_id": "28640a2338414ee7aa66dc964f32ebb6",
       "version_major": 2,
       "version_minor": 0
      },
      "text/plain": [
       "HBox(children=(HTML(value=''), FloatProgress(value=0.0, max=5.0), HTML(value='')))"
      ]
     },
     "metadata": {},
     "output_type": "display_data"
    },
    {
     "name": "stdout",
     "output_type": "stream",
     "text": [
      "\n"
     ]
    },
    {
     "data": {
      "application/vnd.jupyter.widget-view+json": {
       "model_id": "be7c067875f446878f90fc8cfce81c87",
       "version_major": 2,
       "version_minor": 0
      },
      "text/plain": [
       "HBox(children=(HTML(value=''), FloatProgress(value=0.0, max=5.0), HTML(value='')))"
      ]
     },
     "metadata": {},
     "output_type": "display_data"
    },
    {
     "name": "stdout",
     "output_type": "stream",
     "text": [
      "\n"
     ]
    },
    {
     "data": {
      "application/vnd.jupyter.widget-view+json": {
       "model_id": "d684411dcdf24fc69b23ef5c2c27a491",
       "version_major": 2,
       "version_minor": 0
      },
      "text/plain": [
       "HBox(children=(HTML(value=''), FloatProgress(value=0.0, max=5.0), HTML(value='')))"
      ]
     },
     "metadata": {},
     "output_type": "display_data"
    },
    {
     "name": "stdout",
     "output_type": "stream",
     "text": [
      "\n"
     ]
    },
    {
     "data": {
      "application/vnd.jupyter.widget-view+json": {
       "model_id": "78013a6f55a54e7e9526744a225b3cce",
       "version_major": 2,
       "version_minor": 0
      },
      "text/plain": [
       "HBox(children=(HTML(value=''), FloatProgress(value=0.0, max=5.0), HTML(value='')))"
      ]
     },
     "metadata": {},
     "output_type": "display_data"
    },
    {
     "name": "stdout",
     "output_type": "stream",
     "text": [
      "\n"
     ]
    },
    {
     "data": {
      "application/vnd.jupyter.widget-view+json": {
       "model_id": "4bf89ec70cc845a5a1de2609353cba31",
       "version_major": 2,
       "version_minor": 0
      },
      "text/plain": [
       "HBox(children=(HTML(value=''), FloatProgress(value=0.0, max=5.0), HTML(value='')))"
      ]
     },
     "metadata": {},
     "output_type": "display_data"
    },
    {
     "name": "stdout",
     "output_type": "stream",
     "text": [
      "\n",
      "\n"
     ]
    }
   ],
   "source": [
    "experiments = []\n",
    "\n",
    "n = 10\n",
    "query = embeddings[1]  # maybe try more queries?\n",
    "baseline_result = (1 - F.cosine_similarity(query.unsqueeze(0), embeddings)).argsort(descending=False)[:n].tolist()\n",
    "\n",
    "for n_trees in tqdm([5, 10, 20, 50, 100, 200, 300, 500, 1000]):\n",
    "    index, path = boiler.index.make_index(embeddings, args.index_dir, n_trees)\n",
    "    size = path.stat().st_size\n",
    "    \n",
    "    for search_k in tqdm([n*n_trees//2, n*n_trees, 2*n*n_trees, 3*n*n_trees, 10*n*n_trees]):\n",
    "        def run():\n",
    "            a = time.perf_counter()\n",
    "            result = index.get_nns_by_vector(query, n=n, search_k=search_k, include_distances=False)\n",
    "            b = time.perf_counter()\n",
    "            recall = len(set(baseline_result).intersection(set(result)))/len(baseline_result)\n",
    "            return b-a, recall\n",
    "        \n",
    "        stats = torch.tensor([run() for _ in range(1000)])\n",
    "        latency, recall = stats.mean(dim=0).tolist()\n",
    "        latency_std, recall_std = stats.std(dim=0).tolist()\n",
    "        \n",
    "        experiments.append(dict(n_trees=n_trees,\n",
    "                                 search_k=search_k,\n",
    "                                 size=size,\n",
    "                                 latency=latency, latency_std=latency_std,\n",
    "                                 recall=recall, recall_std=recall_std))\n",
    "    del index"
   ]
  },
  {
   "cell_type": "code",
   "execution_count": 24,
   "metadata": {
    "scrolled": false
   },
   "outputs": [
    {
     "data": {
      "text/html": [
       "<div>\n",
       "<style scoped>\n",
       "    .dataframe tbody tr th:only-of-type {\n",
       "        vertical-align: middle;\n",
       "    }\n",
       "\n",
       "    .dataframe tbody tr th {\n",
       "        vertical-align: top;\n",
       "    }\n",
       "\n",
       "    .dataframe thead th {\n",
       "        text-align: right;\n",
       "    }\n",
       "</style>\n",
       "<table border=\"1\" class=\"dataframe\">\n",
       "  <thead>\n",
       "    <tr style=\"text-align: right;\">\n",
       "      <th></th>\n",
       "      <th>n_trees</th>\n",
       "      <th>search_k</th>\n",
       "      <th>size</th>\n",
       "      <th>latency</th>\n",
       "      <th>latency_std</th>\n",
       "      <th>recall</th>\n",
       "      <th>recall_std</th>\n",
       "    </tr>\n",
       "  </thead>\n",
       "  <tbody>\n",
       "    <tr>\n",
       "      <th>0</th>\n",
       "      <td>5</td>\n",
       "      <td>25</td>\n",
       "      <td>3279248</td>\n",
       "      <td>0.000121</td>\n",
       "      <td>0.000013</td>\n",
       "      <td>0.5</td>\n",
       "      <td>0.0</td>\n",
       "    </tr>\n",
       "    <tr>\n",
       "      <th>1</th>\n",
       "      <td>5</td>\n",
       "      <td>50</td>\n",
       "      <td>3279248</td>\n",
       "      <td>0.000122</td>\n",
       "      <td>0.000017</td>\n",
       "      <td>0.5</td>\n",
       "      <td>0.0</td>\n",
       "    </tr>\n",
       "    <tr>\n",
       "      <th>2</th>\n",
       "      <td>5</td>\n",
       "      <td>100</td>\n",
       "      <td>3279248</td>\n",
       "      <td>0.000125</td>\n",
       "      <td>0.000017</td>\n",
       "      <td>0.5</td>\n",
       "      <td>0.0</td>\n",
       "    </tr>\n",
       "    <tr>\n",
       "      <th>3</th>\n",
       "      <td>5</td>\n",
       "      <td>150</td>\n",
       "      <td>3279248</td>\n",
       "      <td>0.000125</td>\n",
       "      <td>0.000011</td>\n",
       "      <td>0.5</td>\n",
       "      <td>0.0</td>\n",
       "    </tr>\n",
       "    <tr>\n",
       "      <th>4</th>\n",
       "      <td>5</td>\n",
       "      <td>500</td>\n",
       "      <td>3279248</td>\n",
       "      <td>0.000139</td>\n",
       "      <td>0.000035</td>\n",
       "      <td>0.6</td>\n",
       "      <td>0.0</td>\n",
       "    </tr>\n",
       "    <tr>\n",
       "      <th>5</th>\n",
       "      <td>10</td>\n",
       "      <td>50</td>\n",
       "      <td>4062076</td>\n",
       "      <td>0.000134</td>\n",
       "      <td>0.000033</td>\n",
       "      <td>0.5</td>\n",
       "      <td>0.0</td>\n",
       "    </tr>\n",
       "    <tr>\n",
       "      <th>6</th>\n",
       "      <td>10</td>\n",
       "      <td>100</td>\n",
       "      <td>4062076</td>\n",
       "      <td>0.000124</td>\n",
       "      <td>0.000020</td>\n",
       "      <td>0.5</td>\n",
       "      <td>0.0</td>\n",
       "    </tr>\n",
       "    <tr>\n",
       "      <th>7</th>\n",
       "      <td>10</td>\n",
       "      <td>200</td>\n",
       "      <td>4062076</td>\n",
       "      <td>0.000127</td>\n",
       "      <td>0.000020</td>\n",
       "      <td>0.5</td>\n",
       "      <td>0.0</td>\n",
       "    </tr>\n",
       "    <tr>\n",
       "      <th>8</th>\n",
       "      <td>10</td>\n",
       "      <td>300</td>\n",
       "      <td>4062076</td>\n",
       "      <td>0.000129</td>\n",
       "      <td>0.000014</td>\n",
       "      <td>0.5</td>\n",
       "      <td>0.0</td>\n",
       "    </tr>\n",
       "    <tr>\n",
       "      <th>9</th>\n",
       "      <td>10</td>\n",
       "      <td>1000</td>\n",
       "      <td>4062076</td>\n",
       "      <td>0.000175</td>\n",
       "      <td>0.000039</td>\n",
       "      <td>0.6</td>\n",
       "      <td>0.0</td>\n",
       "    </tr>\n",
       "    <tr>\n",
       "      <th>10</th>\n",
       "      <td>20</td>\n",
       "      <td>100</td>\n",
       "      <td>5629876</td>\n",
       "      <td>0.000126</td>\n",
       "      <td>0.000024</td>\n",
       "      <td>0.6</td>\n",
       "      <td>0.0</td>\n",
       "    </tr>\n",
       "    <tr>\n",
       "      <th>11</th>\n",
       "      <td>20</td>\n",
       "      <td>200</td>\n",
       "      <td>5629876</td>\n",
       "      <td>0.000129</td>\n",
       "      <td>0.000013</td>\n",
       "      <td>0.6</td>\n",
       "      <td>0.0</td>\n",
       "    </tr>\n",
       "    <tr>\n",
       "      <th>12</th>\n",
       "      <td>20</td>\n",
       "      <td>400</td>\n",
       "      <td>5629876</td>\n",
       "      <td>0.000147</td>\n",
       "      <td>0.000025</td>\n",
       "      <td>0.6</td>\n",
       "      <td>0.0</td>\n",
       "    </tr>\n",
       "    <tr>\n",
       "      <th>13</th>\n",
       "      <td>20</td>\n",
       "      <td>600</td>\n",
       "      <td>5629876</td>\n",
       "      <td>0.000157</td>\n",
       "      <td>0.000021</td>\n",
       "      <td>0.6</td>\n",
       "      <td>0.0</td>\n",
       "    </tr>\n",
       "    <tr>\n",
       "      <th>14</th>\n",
       "      <td>20</td>\n",
       "      <td>2000</td>\n",
       "      <td>5629876</td>\n",
       "      <td>0.000246</td>\n",
       "      <td>0.000072</td>\n",
       "      <td>0.8</td>\n",
       "      <td>0.0</td>\n",
       "    </tr>\n",
       "    <tr>\n",
       "      <th>15</th>\n",
       "      <td>50</td>\n",
       "      <td>250</td>\n",
       "      <td>10387948</td>\n",
       "      <td>0.000158</td>\n",
       "      <td>0.000035</td>\n",
       "      <td>0.6</td>\n",
       "      <td>0.0</td>\n",
       "    </tr>\n",
       "    <tr>\n",
       "      <th>16</th>\n",
       "      <td>50</td>\n",
       "      <td>500</td>\n",
       "      <td>10387948</td>\n",
       "      <td>0.000171</td>\n",
       "      <td>0.000020</td>\n",
       "      <td>0.6</td>\n",
       "      <td>0.0</td>\n",
       "    </tr>\n",
       "    <tr>\n",
       "      <th>17</th>\n",
       "      <td>50</td>\n",
       "      <td>1000</td>\n",
       "      <td>10387948</td>\n",
       "      <td>0.000207</td>\n",
       "      <td>0.000027</td>\n",
       "      <td>0.6</td>\n",
       "      <td>0.0</td>\n",
       "    </tr>\n",
       "    <tr>\n",
       "      <th>18</th>\n",
       "      <td>50</td>\n",
       "      <td>1500</td>\n",
       "      <td>10387948</td>\n",
       "      <td>0.000233</td>\n",
       "      <td>0.000024</td>\n",
       "      <td>0.6</td>\n",
       "      <td>0.0</td>\n",
       "    </tr>\n",
       "    <tr>\n",
       "      <th>19</th>\n",
       "      <td>50</td>\n",
       "      <td>5000</td>\n",
       "      <td>10387948</td>\n",
       "      <td>0.000413</td>\n",
       "      <td>0.000058</td>\n",
       "      <td>0.8</td>\n",
       "      <td>0.0</td>\n",
       "    </tr>\n",
       "    <tr>\n",
       "      <th>20</th>\n",
       "      <td>100</td>\n",
       "      <td>500</td>\n",
       "      <td>18327984</td>\n",
       "      <td>0.000206</td>\n",
       "      <td>0.000053</td>\n",
       "      <td>0.8</td>\n",
       "      <td>0.0</td>\n",
       "    </tr>\n",
       "    <tr>\n",
       "      <th>21</th>\n",
       "      <td>100</td>\n",
       "      <td>1000</td>\n",
       "      <td>18327984</td>\n",
       "      <td>0.000242</td>\n",
       "      <td>0.000023</td>\n",
       "      <td>0.8</td>\n",
       "      <td>0.0</td>\n",
       "    </tr>\n",
       "    <tr>\n",
       "      <th>22</th>\n",
       "      <td>100</td>\n",
       "      <td>2000</td>\n",
       "      <td>18327984</td>\n",
       "      <td>0.000305</td>\n",
       "      <td>0.000033</td>\n",
       "      <td>0.8</td>\n",
       "      <td>0.0</td>\n",
       "    </tr>\n",
       "    <tr>\n",
       "      <th>23</th>\n",
       "      <td>100</td>\n",
       "      <td>3000</td>\n",
       "      <td>18327984</td>\n",
       "      <td>0.000350</td>\n",
       "      <td>0.000023</td>\n",
       "      <td>0.9</td>\n",
       "      <td>0.0</td>\n",
       "    </tr>\n",
       "    <tr>\n",
       "      <th>24</th>\n",
       "      <td>100</td>\n",
       "      <td>10000</td>\n",
       "      <td>18327984</td>\n",
       "      <td>0.000703</td>\n",
       "      <td>0.000072</td>\n",
       "      <td>1.0</td>\n",
       "      <td>0.0</td>\n",
       "    </tr>\n",
       "    <tr>\n",
       "      <th>25</th>\n",
       "      <td>200</td>\n",
       "      <td>1000</td>\n",
       "      <td>34177236</td>\n",
       "      <td>0.000348</td>\n",
       "      <td>0.000278</td>\n",
       "      <td>1.0</td>\n",
       "      <td>0.0</td>\n",
       "    </tr>\n",
       "    <tr>\n",
       "      <th>26</th>\n",
       "      <td>200</td>\n",
       "      <td>2000</td>\n",
       "      <td>34177236</td>\n",
       "      <td>0.000385</td>\n",
       "      <td>0.000035</td>\n",
       "      <td>1.0</td>\n",
       "      <td>0.0</td>\n",
       "    </tr>\n",
       "    <tr>\n",
       "      <th>27</th>\n",
       "      <td>200</td>\n",
       "      <td>4000</td>\n",
       "      <td>34177236</td>\n",
       "      <td>0.000500</td>\n",
       "      <td>0.000046</td>\n",
       "      <td>1.0</td>\n",
       "      <td>0.0</td>\n",
       "    </tr>\n",
       "    <tr>\n",
       "      <th>28</th>\n",
       "      <td>200</td>\n",
       "      <td>6000</td>\n",
       "      <td>34177236</td>\n",
       "      <td>0.000590</td>\n",
       "      <td>0.000031</td>\n",
       "      <td>1.0</td>\n",
       "      <td>0.0</td>\n",
       "    </tr>\n",
       "    <tr>\n",
       "      <th>29</th>\n",
       "      <td>200</td>\n",
       "      <td>20000</td>\n",
       "      <td>34177236</td>\n",
       "      <td>0.001300</td>\n",
       "      <td>0.000110</td>\n",
       "      <td>1.0</td>\n",
       "      <td>0.0</td>\n",
       "    </tr>\n",
       "    <tr>\n",
       "      <th>30</th>\n",
       "      <td>300</td>\n",
       "      <td>1500</td>\n",
       "      <td>50003440</td>\n",
       "      <td>0.000435</td>\n",
       "      <td>0.000141</td>\n",
       "      <td>1.0</td>\n",
       "      <td>0.0</td>\n",
       "    </tr>\n",
       "    <tr>\n",
       "      <th>31</th>\n",
       "      <td>300</td>\n",
       "      <td>3000</td>\n",
       "      <td>50003440</td>\n",
       "      <td>0.000521</td>\n",
       "      <td>0.000046</td>\n",
       "      <td>1.0</td>\n",
       "      <td>0.0</td>\n",
       "    </tr>\n",
       "    <tr>\n",
       "      <th>32</th>\n",
       "      <td>300</td>\n",
       "      <td>6000</td>\n",
       "      <td>50003440</td>\n",
       "      <td>0.000690</td>\n",
       "      <td>0.000060</td>\n",
       "      <td>1.0</td>\n",
       "      <td>0.0</td>\n",
       "    </tr>\n",
       "    <tr>\n",
       "      <th>33</th>\n",
       "      <td>300</td>\n",
       "      <td>9000</td>\n",
       "      <td>50003440</td>\n",
       "      <td>0.000835</td>\n",
       "      <td>0.000057</td>\n",
       "      <td>1.0</td>\n",
       "      <td>0.0</td>\n",
       "    </tr>\n",
       "    <tr>\n",
       "      <th>34</th>\n",
       "      <td>300</td>\n",
       "      <td>30000</td>\n",
       "      <td>50003440</td>\n",
       "      <td>0.001856</td>\n",
       "      <td>0.000171</td>\n",
       "      <td>1.0</td>\n",
       "      <td>0.0</td>\n",
       "    </tr>\n",
       "    <tr>\n",
       "      <th>35</th>\n",
       "      <td>500</td>\n",
       "      <td>2500</td>\n",
       "      <td>81705964</td>\n",
       "      <td>0.000665</td>\n",
       "      <td>0.000233</td>\n",
       "      <td>1.0</td>\n",
       "      <td>0.0</td>\n",
       "    </tr>\n",
       "    <tr>\n",
       "      <th>36</th>\n",
       "      <td>500</td>\n",
       "      <td>5000</td>\n",
       "      <td>81705964</td>\n",
       "      <td>0.000802</td>\n",
       "      <td>0.000071</td>\n",
       "      <td>1.0</td>\n",
       "      <td>0.0</td>\n",
       "    </tr>\n",
       "    <tr>\n",
       "      <th>37</th>\n",
       "      <td>500</td>\n",
       "      <td>10000</td>\n",
       "      <td>81705964</td>\n",
       "      <td>0.001074</td>\n",
       "      <td>0.000087</td>\n",
       "      <td>1.0</td>\n",
       "      <td>0.0</td>\n",
       "    </tr>\n",
       "    <tr>\n",
       "      <th>38</th>\n",
       "      <td>500</td>\n",
       "      <td>15000</td>\n",
       "      <td>81705964</td>\n",
       "      <td>0.001288</td>\n",
       "      <td>0.000052</td>\n",
       "      <td>1.0</td>\n",
       "      <td>0.0</td>\n",
       "    </tr>\n",
       "    <tr>\n",
       "      <th>39</th>\n",
       "      <td>500</td>\n",
       "      <td>50000</td>\n",
       "      <td>81705964</td>\n",
       "      <td>0.002988</td>\n",
       "      <td>0.000205</td>\n",
       "      <td>1.0</td>\n",
       "      <td>0.0</td>\n",
       "    </tr>\n",
       "    <tr>\n",
       "      <th>40</th>\n",
       "      <td>1000</td>\n",
       "      <td>5000</td>\n",
       "      <td>161147596</td>\n",
       "      <td>0.001164</td>\n",
       "      <td>0.000410</td>\n",
       "      <td>1.0</td>\n",
       "      <td>0.0</td>\n",
       "    </tr>\n",
       "    <tr>\n",
       "      <th>41</th>\n",
       "      <td>1000</td>\n",
       "      <td>10000</td>\n",
       "      <td>161147596</td>\n",
       "      <td>0.001519</td>\n",
       "      <td>0.000124</td>\n",
       "      <td>1.0</td>\n",
       "      <td>0.0</td>\n",
       "    </tr>\n",
       "    <tr>\n",
       "      <th>42</th>\n",
       "      <td>1000</td>\n",
       "      <td>20000</td>\n",
       "      <td>161147596</td>\n",
       "      <td>0.002093</td>\n",
       "      <td>0.000152</td>\n",
       "      <td>1.0</td>\n",
       "      <td>0.0</td>\n",
       "    </tr>\n",
       "    <tr>\n",
       "      <th>43</th>\n",
       "      <td>1000</td>\n",
       "      <td>30000</td>\n",
       "      <td>161147596</td>\n",
       "      <td>0.002547</td>\n",
       "      <td>0.000130</td>\n",
       "      <td>1.0</td>\n",
       "      <td>0.0</td>\n",
       "    </tr>\n",
       "    <tr>\n",
       "      <th>44</th>\n",
       "      <td>1000</td>\n",
       "      <td>100000</td>\n",
       "      <td>161147596</td>\n",
       "      <td>0.006328</td>\n",
       "      <td>0.000389</td>\n",
       "      <td>1.0</td>\n",
       "      <td>0.0</td>\n",
       "    </tr>\n",
       "  </tbody>\n",
       "</table>\n",
       "</div>"
      ],
      "text/plain": [
       "    n_trees  search_k       size   latency  latency_std  recall  recall_std\n",
       "0         5        25    3279248  0.000121     0.000013     0.5         0.0\n",
       "1         5        50    3279248  0.000122     0.000017     0.5         0.0\n",
       "2         5       100    3279248  0.000125     0.000017     0.5         0.0\n",
       "3         5       150    3279248  0.000125     0.000011     0.5         0.0\n",
       "4         5       500    3279248  0.000139     0.000035     0.6         0.0\n",
       "5        10        50    4062076  0.000134     0.000033     0.5         0.0\n",
       "6        10       100    4062076  0.000124     0.000020     0.5         0.0\n",
       "7        10       200    4062076  0.000127     0.000020     0.5         0.0\n",
       "8        10       300    4062076  0.000129     0.000014     0.5         0.0\n",
       "9        10      1000    4062076  0.000175     0.000039     0.6         0.0\n",
       "10       20       100    5629876  0.000126     0.000024     0.6         0.0\n",
       "11       20       200    5629876  0.000129     0.000013     0.6         0.0\n",
       "12       20       400    5629876  0.000147     0.000025     0.6         0.0\n",
       "13       20       600    5629876  0.000157     0.000021     0.6         0.0\n",
       "14       20      2000    5629876  0.000246     0.000072     0.8         0.0\n",
       "15       50       250   10387948  0.000158     0.000035     0.6         0.0\n",
       "16       50       500   10387948  0.000171     0.000020     0.6         0.0\n",
       "17       50      1000   10387948  0.000207     0.000027     0.6         0.0\n",
       "18       50      1500   10387948  0.000233     0.000024     0.6         0.0\n",
       "19       50      5000   10387948  0.000413     0.000058     0.8         0.0\n",
       "20      100       500   18327984  0.000206     0.000053     0.8         0.0\n",
       "21      100      1000   18327984  0.000242     0.000023     0.8         0.0\n",
       "22      100      2000   18327984  0.000305     0.000033     0.8         0.0\n",
       "23      100      3000   18327984  0.000350     0.000023     0.9         0.0\n",
       "24      100     10000   18327984  0.000703     0.000072     1.0         0.0\n",
       "25      200      1000   34177236  0.000348     0.000278     1.0         0.0\n",
       "26      200      2000   34177236  0.000385     0.000035     1.0         0.0\n",
       "27      200      4000   34177236  0.000500     0.000046     1.0         0.0\n",
       "28      200      6000   34177236  0.000590     0.000031     1.0         0.0\n",
       "29      200     20000   34177236  0.001300     0.000110     1.0         0.0\n",
       "30      300      1500   50003440  0.000435     0.000141     1.0         0.0\n",
       "31      300      3000   50003440  0.000521     0.000046     1.0         0.0\n",
       "32      300      6000   50003440  0.000690     0.000060     1.0         0.0\n",
       "33      300      9000   50003440  0.000835     0.000057     1.0         0.0\n",
       "34      300     30000   50003440  0.001856     0.000171     1.0         0.0\n",
       "35      500      2500   81705964  0.000665     0.000233     1.0         0.0\n",
       "36      500      5000   81705964  0.000802     0.000071     1.0         0.0\n",
       "37      500     10000   81705964  0.001074     0.000087     1.0         0.0\n",
       "38      500     15000   81705964  0.001288     0.000052     1.0         0.0\n",
       "39      500     50000   81705964  0.002988     0.000205     1.0         0.0\n",
       "40     1000      5000  161147596  0.001164     0.000410     1.0         0.0\n",
       "41     1000     10000  161147596  0.001519     0.000124     1.0         0.0\n",
       "42     1000     20000  161147596  0.002093     0.000152     1.0         0.0\n",
       "43     1000     30000  161147596  0.002547     0.000130     1.0         0.0\n",
       "44     1000    100000  161147596  0.006328     0.000389     1.0         0.0"
      ]
     },
     "execution_count": 24,
     "metadata": {},
     "output_type": "execute_result"
    }
   ],
   "source": [
    "pd.set_option('display.max_rows', 500)\n",
    "df = pd.DataFrame(experiments)\n",
    "df"
   ]
  },
  {
   "cell_type": "markdown",
   "metadata": {},
   "source": [
    "I will be dropping all runs that have even a slightest drop in recall:"
   ]
  },
  {
   "cell_type": "code",
   "execution_count": 25,
   "metadata": {},
   "outputs": [],
   "source": [
    "df = df[~(df.recall < 1)]"
   ]
  },
  {
   "cell_type": "markdown",
   "metadata": {},
   "source": [
    "Annoy mmaps a single index only once into the memory and it can be shared between multiple workers. We only need to make sure a single copy fits into our RAM budget assuming the dataset size is constant."
   ]
  },
  {
   "cell_type": "code",
   "execution_count": 33,
   "metadata": {},
   "outputs": [
    {
     "data": {
      "text/plain": [
       "<matplotlib.lines.Line2D at 0x7ff3e1dde5b0>"
      ]
     },
     "execution_count": 33,
     "metadata": {},
     "output_type": "execute_result"
    },
    {
     "data": {
      "image/png": "[encoded data removed]",
      "text/plain": [
       "<Figure size 432x288 with 1 Axes>"
      ]
     },
     "metadata": {
      "needs_background": "light"
     },
     "output_type": "display_data"
    }
   ],
   "source": [
    "df.plot.scatter(x='n_trees', y='size')\n",
    "plt.axhline(0.5*1e9, color='red', label='ram cap (0.5 gigabytes)')"
   ]
  },
  {
   "cell_type": "code",
   "execution_count": 31,
   "metadata": {},
   "outputs": [
    {
     "data": {
      "text/html": [
       "<div>\n",
       "<style scoped>\n",
       "    .dataframe tbody tr th:only-of-type {\n",
       "        vertical-align: middle;\n",
       "    }\n",
       "\n",
       "    .dataframe tbody tr th {\n",
       "        vertical-align: top;\n",
       "    }\n",
       "\n",
       "    .dataframe thead th {\n",
       "        text-align: right;\n",
       "    }\n",
       "</style>\n",
       "<table border=\"1\" class=\"dataframe\">\n",
       "  <thead>\n",
       "    <tr style=\"text-align: right;\">\n",
       "      <th></th>\n",
       "      <th>n_trees</th>\n",
       "      <th>search_k</th>\n",
       "      <th>size</th>\n",
       "      <th>latency</th>\n",
       "      <th>latency_std</th>\n",
       "      <th>recall</th>\n",
       "      <th>recall_std</th>\n",
       "    </tr>\n",
       "  </thead>\n",
       "  <tbody>\n",
       "    <tr>\n",
       "      <th>29</th>\n",
       "      <td>200</td>\n",
       "      <td>20000</td>\n",
       "      <td>34177236</td>\n",
       "      <td>0.001300</td>\n",
       "      <td>0.000110</td>\n",
       "      <td>1.0</td>\n",
       "      <td>0.0</td>\n",
       "    </tr>\n",
       "    <tr>\n",
       "      <th>34</th>\n",
       "      <td>300</td>\n",
       "      <td>30000</td>\n",
       "      <td>50003440</td>\n",
       "      <td>0.001856</td>\n",
       "      <td>0.000171</td>\n",
       "      <td>1.0</td>\n",
       "      <td>0.0</td>\n",
       "    </tr>\n",
       "    <tr>\n",
       "      <th>37</th>\n",
       "      <td>500</td>\n",
       "      <td>10000</td>\n",
       "      <td>81705964</td>\n",
       "      <td>0.001074</td>\n",
       "      <td>0.000087</td>\n",
       "      <td>1.0</td>\n",
       "      <td>0.0</td>\n",
       "    </tr>\n",
       "    <tr>\n",
       "      <th>38</th>\n",
       "      <td>500</td>\n",
       "      <td>15000</td>\n",
       "      <td>81705964</td>\n",
       "      <td>0.001288</td>\n",
       "      <td>0.000052</td>\n",
       "      <td>1.0</td>\n",
       "      <td>0.0</td>\n",
       "    </tr>\n",
       "    <tr>\n",
       "      <th>40</th>\n",
       "      <td>1000</td>\n",
       "      <td>5000</td>\n",
       "      <td>161147596</td>\n",
       "      <td>0.001164</td>\n",
       "      <td>0.000410</td>\n",
       "      <td>1.0</td>\n",
       "      <td>0.0</td>\n",
       "    </tr>\n",
       "    <tr>\n",
       "      <th>41</th>\n",
       "      <td>1000</td>\n",
       "      <td>10000</td>\n",
       "      <td>161147596</td>\n",
       "      <td>0.001519</td>\n",
       "      <td>0.000124</td>\n",
       "      <td>1.0</td>\n",
       "      <td>0.0</td>\n",
       "    </tr>\n",
       "  </tbody>\n",
       "</table>\n",
       "</div>"
      ],
      "text/plain": [
       "    n_trees  search_k       size   latency  latency_std  recall  recall_std\n",
       "29      200     20000   34177236  0.001300     0.000110     1.0         0.0\n",
       "34      300     30000   50003440  0.001856     0.000171     1.0         0.0\n",
       "37      500     10000   81705964  0.001074     0.000087     1.0         0.0\n",
       "38      500     15000   81705964  0.001288     0.000052     1.0         0.0\n",
       "40     1000      5000  161147596  0.001164     0.000410     1.0         0.0\n",
       "41     1000     10000  161147596  0.001519     0.000124     1.0         0.0"
      ]
     },
     "execution_count": 31,
     "metadata": {},
     "output_type": "execute_result"
    },
    {
     "data": {
      "image/png": "[encoded data removed]",
      "text/plain": [
       "<Figure size 432x288 with 1 Axes>"
      ]
     },
     "metadata": {
      "needs_background": "light"
     },
     "output_type": "display_data"
    }
   ],
   "source": [
    "df.latency.plot()\n",
    "plt.axhline(0.002, color='red', label='hard budget cap (2ms)')\n",
    "plt.axhline(0.001, color='orange', label='budget cap (1ms)')\n",
    "plt.legend()\n",
    "\n",
    "df[(df.latency<0.002) & (df.latency>0.001)]"
   ]
  },
  {
   "cell_type": "markdown",
   "metadata": {},
   "source": [
    "If there are no more considerations, we're good to go with any of the models above."
   ]
  }
 ],
 "metadata": {
  "kernelspec": {
   "display_name": "Python 3",
   "language": "python",
   "name": "python3"
  },
  "language_info": {
   "codemirror_mode": {
    "name": "ipython",
    "version": 3
   },
   "file_extension": ".py",
   "mimetype": "text/x-python",
   "name": "python",
   "nbconvert_exporter": "python",
   "pygments_lexer": "ipython3",
   "version": "3.8.5"
  }
 },
 "nbformat": 4,
 "nbformat_minor": 4
}

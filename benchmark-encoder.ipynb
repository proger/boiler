{
 "cells": [
  {
   "cell_type": "markdown",
   "metadata": {},
   "source": [
    "In this notebook I'll be testing model configurations to find out optimal batch_size/latency values for the encoder.\n",
    "\n",
    "I will be testing cuda/cpu + fp16/amp/fp32, but not int8 as FBGEMM does not support transposed convolutions (yet)."
   ]
  },
  {
   "cell_type": "code",
   "execution_count": 209,
   "metadata": {},
   "outputs": [
    {
     "name": "stdout",
     "output_type": "stream",
     "text": [
      "GPU 0: GeForce GTX 1080 Ti (UUID: GPU-80ea3a86-9161-af28-825a-3e8fccb01b72)\r\n"
     ]
    }
   ],
   "source": [
    "!nvidia-smi -L"
   ]
  },
  {
   "cell_type": "code",
   "execution_count": 212,
   "metadata": {},
   "outputs": [
    {
     "name": "stdout",
     "output_type": "stream",
     "text": [
      "processor\t: 0\r\n",
      "vendor_id\t: GenuineIntel\r\n",
      "cpu family\t: 6\r\n",
      "model\t\t: 158\r\n",
      "model name\t: Intel(R) Core(TM) i5-8400 CPU @ 2.80GHz\r\n",
      "stepping\t: 10\r\n",
      "microcode\t: 0xde\r\n",
      "cpu MHz\t\t: 3835.093\r\n",
      "cache size\t: 9216 KB\r\n",
      "physical id\t: 0\r\n",
      "siblings\t: 6\r\n",
      "core id\t\t: 0\r\n",
      "cpu cores\t: 6\r\n",
      "apicid\t\t: 0\r\n",
      "initial apicid\t: 0\r\n",
      "fpu\t\t: yes\r\n",
      "fpu_exception\t: yes\r\n",
      "cpuid level\t: 22\r\n",
      "wp\t\t: yes\r\n",
      "flags\t\t: fpu vme de pse tsc msr pae mce cx8 apic sep mtrr pge mca cmov pat pse36 clflush dts acpi mmx fxsr sse sse2 ss ht tm pbe syscall nx pdpe1gb rdtscp lm constant_tsc art arch_perfmon pebs bts rep_good nopl xtopology nonstop_tsc cpuid aperfmperf pni pclmulqdq dtes64 monitor ds_cpl vmx est tm2 ssse3 sdbg fma cx16 xtpr pdcm pcid sse4_1 sse4_2 x2apic movbe popcnt tsc_deadline_timer aes xsave avx f16c rdrand lahf_lm abm 3dnowprefetch cpuid_fault invpcid_single pti ssbd ibrs ibpb stibp tpr_shadow vnmi flexpriority ept vpid ept_ad fsgsbase tsc_adjust bmi1 avx2 smep bmi2 erms invpcid mpx rdseed adx smap clflushopt intel_pt xsaveopt xsavec xgetbv1 xsaves dtherm ida arat pln pts hwp hwp_notify hwp_act_window hwp_epp md_clear flush_l1d\r\n"
     ]
    }
   ],
   "source": [
    "!head -20 /proc/cpuinfo"
   ]
  },
  {
   "cell_type": "code",
   "execution_count": 213,
   "metadata": {},
   "outputs": [
    {
     "name": "stdout",
     "output_type": "stream",
     "text": [
      "              total        used        free      shared  buff/cache   available\r\n",
      "Mem:          32061       12722       17388         145        1949       18790\r\n",
      "Swap:          2047        2044           3\r\n"
     ]
    }
   ],
   "source": [
    "!free -m"
   ]
  },
  {
   "cell_type": "code",
   "execution_count": 198,
   "metadata": {},
   "outputs": [],
   "source": [
    "!pip3 install -q pandas matplotlib seaborn"
   ]
  },
  {
   "cell_type": "code",
   "execution_count": 1,
   "metadata": {},
   "outputs": [],
   "source": [
    "import warnings; warnings.filterwarnings(\"ignore\"); import os; os.environ['KALDI_ROOT'] = '/tmp' # ignore warnings\n",
    "\n",
    "import gc\n",
    "from pathlib import Path\n",
    "import time\n",
    "\n",
    "import pandas as pd\n",
    "import torch\n",
    "import torch.nn.functional as F\n",
    "from torch.utils.data import DataLoader, ConcatDataset\n",
    "from tqdm import tqdm\n",
    "\n",
    "import boiler.dataset\n",
    "import boiler.encoder"
   ]
  },
  {
   "cell_type": "code",
   "execution_count": 2,
   "metadata": {},
   "outputs": [],
   "source": [
    "%load_ext autoreload\n",
    "%autoreload 2"
   ]
  },
  {
   "cell_type": "code",
   "execution_count": 5,
   "metadata": {},
   "outputs": [],
   "source": [
    "class args:\n",
    "    wav_dir = Path('/home/proger/coub-crawler/monthlyLog/wav')\n",
    "    pt_path = Path('/home/proger/boiler/exp/p_t64_b512/vqvae_223.pt')"
   ]
  },
  {
   "cell_type": "code",
   "execution_count": 6,
   "metadata": {},
   "outputs": [
    {
     "data": {
      "text/plain": [
       "tensor([0.], device='cuda:0')"
      ]
     },
     "execution_count": 6,
     "metadata": {},
     "output_type": "execute_result"
    }
   ],
   "source": [
    "torch.zeros(1).cuda() # warming up cuda"
   ]
  },
  {
   "cell_type": "code",
   "execution_count": 7,
   "metadata": {},
   "outputs": [
    {
     "data": {
      "text/plain": [
       "10"
      ]
     },
     "execution_count": 7,
     "metadata": {},
     "output_type": "execute_result"
    }
   ],
   "source": [
    "torch.cuda.memory_stats(0)['active.all.allocated']"
   ]
  },
  {
   "cell_type": "code",
   "execution_count": 8,
   "metadata": {},
   "outputs": [
    {
     "data": {
      "text/plain": [
       "(512, 5632)"
      ]
     },
     "execution_count": 8,
     "metadata": {},
     "output_type": "execute_result"
    }
   ],
   "source": [
    "memstats = torch.cuda.memory_stats(0)\n",
    "memstats['allocated_bytes.all.current'], memstats['allocated_bytes.all.allocated']"
   ]
  },
  {
   "cell_type": "code",
   "execution_count": 9,
   "metadata": {},
   "outputs": [],
   "source": [
    "torch.cuda.empty_cache()"
   ]
  },
  {
   "cell_type": "code",
   "execution_count": 10,
   "metadata": {},
   "outputs": [],
   "source": [
    "golden_batch = next(iter(DataLoader(ConcatDataset([boiler.dataset.WavFile(wav) for wav in sorted(args.wav_dir.glob('*.wav'))]),\n",
    "                                    batch_size=256, shuffle=True, num_workers=4)))\n",
    "\n",
    "cpu_model = boiler.encoder.BagTopVQVAE(args.pt_path, device='cpu')\n",
    "golden_embeddings = cpu_model.forward(golden_batch)"
   ]
  },
  {
   "cell_type": "code",
   "execution_count": 25,
   "metadata": {},
   "outputs": [],
   "source": [
    "batch_sizes = {\n",
    "    'cpu': [1, 2, 3, 4, 5, 6, 7, 8, 9, 10, 11, 12, 13, 14, 15, 16, 24, 32, 64],\n",
    "    'cuda': [1, 2, 3, 4, 5, 6, 7, 8, 9, 10, 11, 12, 13, 14, 15, 16, 24, 32, 64, 64+32, 128, 128+32, 128+64, 256, 512, 1024, 2048, 4096]\n",
    "}"
   ]
  },
  {
   "cell_type": "code",
   "execution_count": 26,
   "metadata": {},
   "outputs": [],
   "source": [
    "def device_type(model):\n",
    "    return next(model.parameters()).device.type\n",
    "\n",
    "def dtype(model):\n",
    "    return next(model.parameters()).dtype\n",
    "\n",
    "def size(model):\n",
    "    return sum(p.numel() for p in model.parameters())"
   ]
  },
  {
   "cell_type": "code",
   "execution_count": 47,
   "metadata": {},
   "outputs": [],
   "source": [
    "exps = []"
   ]
  },
  {
   "cell_type": "code",
   "execution_count": 48,
   "metadata": {},
   "outputs": [],
   "source": [
    "models = [\n",
    "    lambda: cpu_model,\n",
    "    lambda: torch.jit.script(cpu_model),\n",
    "    #lambda: cpu_model.half(), # these are generally very lossy\n",
    "    #lambda: torch.jit.script(cpu_model.half()),\n",
    "    lambda: boiler.encoder.BagTopVQVAE(args.pt_path, device='cuda'),\n",
    "    lambda: torch.jit.script(boiler.encoder.BagTopVQVAE(args.pt_path, device='cuda')),\n",
    "    #lambda: boiler.encoder.BagTopVQVAE(args.pt_path, device='cuda').half(),\n",
    "    #lambda: torch.jit.script(boiler.encoder.BagTopVQVAE(args.pt_path, device='cuda').half()),\n",
    "]"
   ]
  },
  {
   "cell_type": "code",
   "execution_count": 49,
   "metadata": {},
   "outputs": [
    {
     "name": "stderr",
     "output_type": "stream",
     "text": [
      "100%|██████████| 4/4 [00:50<00:00, 12.58s/it]\n"
     ]
    }
   ],
   "source": [
    "for mkmodel in tqdm(models):\n",
    "    model = mkmodel()\n",
    "    \n",
    "    for autocast_enabled in (True, False):\n",
    "        with torch.cuda.amp.autocast(autocast_enabled):\n",
    "\n",
    "            for batch_size in batch_sizes[device_type(model)]:\n",
    "                gc.collect()\n",
    "                torch.cuda.empty_cache()\n",
    "\n",
    "                repeat_dim = max(batch_size//golden_batch.size(0),1),1,1\n",
    "                batch = golden_batch.repeat(*repeat_dim)[:batch_size]\n",
    "                batch = batch.to(device_type(model)).type(dtype(model))\n",
    "\n",
    "                loss_sample_batch_size = min(batch.size(0), golden_batch.size(0))\n",
    "\n",
    "                try:\n",
    "                    def run():\n",
    "                        a = time.perf_counter()\n",
    "                        results = model.forward(batch)\n",
    "                        b = time.perf_counter()\n",
    "\n",
    "                        loss = 1 - F.cosine_similarity(golden_embeddings[:loss_sample_batch_size],\n",
    "                                                       results[:loss_sample_batch_size].cpu())\n",
    "                        return b-a, loss.mean().item()\n",
    "\n",
    "                    stats = torch.tensor([run() for _ in range(10)])\n",
    "                    latency, loss = stats.mean(dim=0).tolist()\n",
    "                    latency_std, loss_std = stats.std(dim=0).tolist()\n",
    "\n",
    "                    exps.append(dict(batch_size=batch_size,\n",
    "                                     latency=latency, latency_std=latency_std,\n",
    "                                     loss=loss, loss_std=loss_std,\n",
    "                                     device=device_type(model), dtype=dtype(model),\n",
    "                                     type=type(model), size=size(model),\n",
    "                                     autocast=autocast_enabled,\n",
    "                                     reason='ok'))\n",
    "                except RuntimeError as e:\n",
    "                    exps.append(dict(batch_size=batch_size,\n",
    "                                     latency=float('NaN'), latency_std=float('NaN'),\n",
    "                                     loss=float('NaN'), loss_std=float('NaN'),\n",
    "                                     device=device_type(model), dtype=dtype(model),\n",
    "                                     type=type(model), size=size(model),\n",
    "                                     autocast=autocast_enabled,\n",
    "                                     reason=str(e)))\n",
    "                finally:\n",
    "                    del batch"
   ]
  },
  {
   "cell_type": "code",
   "execution_count": 42,
   "metadata": {},
   "outputs": [
    {
     "data": {
      "text/html": [
       "<div>\n",
       "<style scoped>\n",
       "    .dataframe tbody tr th:only-of-type {\n",
       "        vertical-align: middle;\n",
       "    }\n",
       "\n",
       "    .dataframe tbody tr th {\n",
       "        vertical-align: top;\n",
       "    }\n",
       "\n",
       "    .dataframe thead th {\n",
       "        text-align: right;\n",
       "    }\n",
       "</style>\n",
       "<table border=\"1\" class=\"dataframe\">\n",
       "  <thead>\n",
       "    <tr style=\"text-align: right;\">\n",
       "      <th></th>\n",
       "      <th>batch_size</th>\n",
       "      <th>latency</th>\n",
       "      <th>latency_std</th>\n",
       "      <th>loss</th>\n",
       "      <th>loss_std</th>\n",
       "      <th>device</th>\n",
       "      <th>dtype</th>\n",
       "      <th>type</th>\n",
       "      <th>size</th>\n",
       "      <th>autocast</th>\n",
       "      <th>reason</th>\n",
       "    </tr>\n",
       "  </thead>\n",
       "  <tbody>\n",
       "    <tr>\n",
       "      <th>0</th>\n",
       "      <td>1</td>\n",
       "      <td>NaN</td>\n",
       "      <td>NaN</td>\n",
       "      <td>NaN</td>\n",
       "      <td>NaN</td>\n",
       "      <td>cpu</td>\n",
       "      <td>torch.float16</td>\n",
       "      <td>&lt;class 'boiler.encoder.BagTopVQVAE'&gt;</td>\n",
       "      <td>10124865</td>\n",
       "      <td>True</td>\n",
       "      <td>\"reflection_pad1d\" not implemented for 'Half'</td>\n",
       "    </tr>\n",
       "    <tr>\n",
       "      <th>1</th>\n",
       "      <td>2</td>\n",
       "      <td>NaN</td>\n",
       "      <td>NaN</td>\n",
       "      <td>NaN</td>\n",
       "      <td>NaN</td>\n",
       "      <td>cpu</td>\n",
       "      <td>torch.float16</td>\n",
       "      <td>&lt;class 'boiler.encoder.BagTopVQVAE'&gt;</td>\n",
       "      <td>10124865</td>\n",
       "      <td>True</td>\n",
       "      <td>\"reflection_pad1d\" not implemented for 'Half'</td>\n",
       "    </tr>\n",
       "    <tr>\n",
       "      <th>2</th>\n",
       "      <td>3</td>\n",
       "      <td>NaN</td>\n",
       "      <td>NaN</td>\n",
       "      <td>NaN</td>\n",
       "      <td>NaN</td>\n",
       "      <td>cpu</td>\n",
       "      <td>torch.float16</td>\n",
       "      <td>&lt;class 'boiler.encoder.BagTopVQVAE'&gt;</td>\n",
       "      <td>10124865</td>\n",
       "      <td>True</td>\n",
       "      <td>\"reflection_pad1d\" not implemented for 'Half'</td>\n",
       "    </tr>\n",
       "    <tr>\n",
       "      <th>3</th>\n",
       "      <td>4</td>\n",
       "      <td>NaN</td>\n",
       "      <td>NaN</td>\n",
       "      <td>NaN</td>\n",
       "      <td>NaN</td>\n",
       "      <td>cpu</td>\n",
       "      <td>torch.float16</td>\n",
       "      <td>&lt;class 'boiler.encoder.BagTopVQVAE'&gt;</td>\n",
       "      <td>10124865</td>\n",
       "      <td>True</td>\n",
       "      <td>\"reflection_pad1d\" not implemented for 'Half'</td>\n",
       "    </tr>\n",
       "    <tr>\n",
       "      <th>4</th>\n",
       "      <td>5</td>\n",
       "      <td>NaN</td>\n",
       "      <td>NaN</td>\n",
       "      <td>NaN</td>\n",
       "      <td>NaN</td>\n",
       "      <td>cpu</td>\n",
       "      <td>torch.float16</td>\n",
       "      <td>&lt;class 'boiler.encoder.BagTopVQVAE'&gt;</td>\n",
       "      <td>10124865</td>\n",
       "      <td>True</td>\n",
       "      <td>\"reflection_pad1d\" not implemented for 'Half'</td>\n",
       "    </tr>\n",
       "    <tr>\n",
       "      <th>...</th>\n",
       "      <td>...</td>\n",
       "      <td>...</td>\n",
       "      <td>...</td>\n",
       "      <td>...</td>\n",
       "      <td>...</td>\n",
       "      <td>...</td>\n",
       "      <td>...</td>\n",
       "      <td>...</td>\n",
       "      <td>...</td>\n",
       "      <td>...</td>\n",
       "      <td>...</td>\n",
       "    </tr>\n",
       "    <tr>\n",
       "      <th>559</th>\n",
       "      <td>256</td>\n",
       "      <td>0.083370</td>\n",
       "      <td>0.000519</td>\n",
       "      <td>0.0</td>\n",
       "      <td>0.0</td>\n",
       "      <td>cuda</td>\n",
       "      <td>torch.float32</td>\n",
       "      <td>&lt;class 'torch.jit._script.RecursiveScriptModule'&gt;</td>\n",
       "      <td>10124865</td>\n",
       "      <td>False</td>\n",
       "      <td>ok</td>\n",
       "    </tr>\n",
       "    <tr>\n",
       "      <th>560</th>\n",
       "      <td>512</td>\n",
       "      <td>0.168409</td>\n",
       "      <td>0.000866</td>\n",
       "      <td>0.0</td>\n",
       "      <td>0.0</td>\n",
       "      <td>cuda</td>\n",
       "      <td>torch.float32</td>\n",
       "      <td>&lt;class 'torch.jit._script.RecursiveScriptModule'&gt;</td>\n",
       "      <td>10124865</td>\n",
       "      <td>False</td>\n",
       "      <td>ok</td>\n",
       "    </tr>\n",
       "    <tr>\n",
       "      <th>561</th>\n",
       "      <td>1024</td>\n",
       "      <td>0.331779</td>\n",
       "      <td>0.001338</td>\n",
       "      <td>0.0</td>\n",
       "      <td>0.0</td>\n",
       "      <td>cuda</td>\n",
       "      <td>torch.float32</td>\n",
       "      <td>&lt;class 'torch.jit._script.RecursiveScriptModule'&gt;</td>\n",
       "      <td>10124865</td>\n",
       "      <td>False</td>\n",
       "      <td>ok</td>\n",
       "    </tr>\n",
       "    <tr>\n",
       "      <th>562</th>\n",
       "      <td>2048</td>\n",
       "      <td>NaN</td>\n",
       "      <td>NaN</td>\n",
       "      <td>NaN</td>\n",
       "      <td>NaN</td>\n",
       "      <td>cuda</td>\n",
       "      <td>torch.float32</td>\n",
       "      <td>&lt;class 'torch.jit._script.RecursiveScriptModule'&gt;</td>\n",
       "      <td>10124865</td>\n",
       "      <td>False</td>\n",
       "      <td>The following operation failed in the TorchScr...</td>\n",
       "    </tr>\n",
       "    <tr>\n",
       "      <th>563</th>\n",
       "      <td>4096</td>\n",
       "      <td>NaN</td>\n",
       "      <td>NaN</td>\n",
       "      <td>NaN</td>\n",
       "      <td>NaN</td>\n",
       "      <td>cuda</td>\n",
       "      <td>torch.float32</td>\n",
       "      <td>&lt;class 'torch.jit._script.RecursiveScriptModule'&gt;</td>\n",
       "      <td>10124865</td>\n",
       "      <td>False</td>\n",
       "      <td>The following operation failed in the TorchScr...</td>\n",
       "    </tr>\n",
       "  </tbody>\n",
       "</table>\n",
       "<p>564 rows × 11 columns</p>\n",
       "</div>"
      ],
      "text/plain": [
       "     batch_size   latency  latency_std  loss  loss_std device          dtype  \\\n",
       "0             1       NaN          NaN   NaN       NaN    cpu  torch.float16   \n",
       "1             2       NaN          NaN   NaN       NaN    cpu  torch.float16   \n",
       "2             3       NaN          NaN   NaN       NaN    cpu  torch.float16   \n",
       "3             4       NaN          NaN   NaN       NaN    cpu  torch.float16   \n",
       "4             5       NaN          NaN   NaN       NaN    cpu  torch.float16   \n",
       "..          ...       ...          ...   ...       ...    ...            ...   \n",
       "559         256  0.083370     0.000519   0.0       0.0   cuda  torch.float32   \n",
       "560         512  0.168409     0.000866   0.0       0.0   cuda  torch.float32   \n",
       "561        1024  0.331779     0.001338   0.0       0.0   cuda  torch.float32   \n",
       "562        2048       NaN          NaN   NaN       NaN   cuda  torch.float32   \n",
       "563        4096       NaN          NaN   NaN       NaN   cuda  torch.float32   \n",
       "\n",
       "                                                  type      size  autocast  \\\n",
       "0                 <class 'boiler.encoder.BagTopVQVAE'>  10124865      True   \n",
       "1                 <class 'boiler.encoder.BagTopVQVAE'>  10124865      True   \n",
       "2                 <class 'boiler.encoder.BagTopVQVAE'>  10124865      True   \n",
       "3                 <class 'boiler.encoder.BagTopVQVAE'>  10124865      True   \n",
       "4                 <class 'boiler.encoder.BagTopVQVAE'>  10124865      True   \n",
       "..                                                 ...       ...       ...   \n",
       "559  <class 'torch.jit._script.RecursiveScriptModule'>  10124865     False   \n",
       "560  <class 'torch.jit._script.RecursiveScriptModule'>  10124865     False   \n",
       "561  <class 'torch.jit._script.RecursiveScriptModule'>  10124865     False   \n",
       "562  <class 'torch.jit._script.RecursiveScriptModule'>  10124865     False   \n",
       "563  <class 'torch.jit._script.RecursiveScriptModule'>  10124865     False   \n",
       "\n",
       "                                                reason  \n",
       "0        \"reflection_pad1d\" not implemented for 'Half'  \n",
       "1        \"reflection_pad1d\" not implemented for 'Half'  \n",
       "2        \"reflection_pad1d\" not implemented for 'Half'  \n",
       "3        \"reflection_pad1d\" not implemented for 'Half'  \n",
       "4        \"reflection_pad1d\" not implemented for 'Half'  \n",
       "..                                                 ...  \n",
       "559                                                 ok  \n",
       "560                                                 ok  \n",
       "561                                                 ok  \n",
       "562  The following operation failed in the TorchScr...  \n",
       "563  The following operation failed in the TorchScr...  \n",
       "\n",
       "[564 rows x 11 columns]"
      ]
     },
     "execution_count": 42,
     "metadata": {},
     "output_type": "execute_result"
    }
   ],
   "source": [
    "df = pd.DataFrame(exps)\n",
    "df"
   ]
  },
  {
   "cell_type": "code",
   "execution_count": 50,
   "metadata": {},
   "outputs": [],
   "source": [
    "df.to_csv('benchmark-encoder.csv')"
   ]
  },
  {
   "cell_type": "code",
   "execution_count": 174,
   "metadata": {},
   "outputs": [],
   "source": [
    "def suffix(s):\n",
    "    return lambda x: s if x else ''"
   ]
  },
  {
   "cell_type": "code",
   "execution_count": 199,
   "metadata": {},
   "outputs": [],
   "source": [
    "df['kind'] = df['device'] + '-' + df['dtype'].apply(repr) + df['type'].apply(repr).str.contains('jit').apply(suffix('-jit')) + df['autocast'].apply(suffix('-autocast')) + '-' + df['size'].apply(repr)"
   ]
  },
  {
   "cell_type": "code",
   "execution_count": 200,
   "metadata": {},
   "outputs": [],
   "source": [
    "df['kind'] = df.kind.astype('category')"
   ]
  },
  {
   "cell_type": "code",
   "execution_count": 205,
   "metadata": {},
   "outputs": [],
   "source": [
    "#df['sim'] = 50*((1-df.loss)**500)\n",
    "df['sim'] = (1-df.loss)"
   ]
  },
  {
   "cell_type": "code",
   "execution_count": 189,
   "metadata": {},
   "outputs": [],
   "source": [
    "import seaborn as sns\n",
    "import matplotlib.pyplot as plt"
   ]
  },
  {
   "cell_type": "code",
   "execution_count": 206,
   "metadata": {},
   "outputs": [
    {
     "data": {
      "text/plain": [
       "(0, 0.021)"
      ]
     },
     "execution_count": 206,
     "metadata": {},
     "output_type": "execute_result"
    },
    {
     "data": {
      "image/png": "[encoded data removed]",
      "text/plain": [
       "<Figure size 1080x720 with 1 Axes>"
      ]
     },
     "metadata": {
      "needs_background": "light"
     },
     "output_type": "display_data"
    }
   ],
   "source": [
    "plt.figure(figsize=(15,10))\n",
    "df = df.dropna()[df.latency<0.02]\n",
    "sns.scatterplot(x=df.batch_size, y=df.latency, size=df.sim, marker='x', hue=df.kind)\n",
    "plt.ylim(0, 0.021)"
   ]
  },
  {
   "cell_type": "markdown",
   "metadata": {},
   "source": [
    "Looks like `batch_size` of 16 with a jit model without autocast (AMP) is a safe bet."
   ]
  }
 ],
 "metadata": {
  "kernelspec": {
   "display_name": "Python 3",
   "language": "python",
   "name": "python3"
  },
  "language_info": {
   "codemirror_mode": {
    "name": "ipython",
    "version": 3
   },
   "file_extension": ".py",
   "mimetype": "text/x-python",
   "name": "python",
   "nbconvert_exporter": "python",
   "pygments_lexer": "ipython3",
   "version": "3.8.5"
  }
 },
 "nbformat": 4,
 "nbformat_minor": 4
}
